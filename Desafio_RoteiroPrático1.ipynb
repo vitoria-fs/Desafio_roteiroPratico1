{
  "nbformat": 4,
  "nbformat_minor": 0,
  "metadata": {
    "colab": {
      "provenance": [],
      "authorship_tag": "ABX9TyPsU7DMB9xOPw6mFWR7MDcI",
      "include_colab_link": true
    },
    "kernelspec": {
      "name": "python3",
      "display_name": "Python 3"
    },
    "language_info": {
      "name": "python"
    }
  },
  "cells": [
    {
      "cell_type": "markdown",
      "metadata": {
        "id": "view-in-github",
        "colab_type": "text"
      },
      "source": [
        "<a href=\"https://colab.research.google.com/github/vitoria-fs/Desafio_roteiroPratico1/blob/main/Desafio_RoteiroPr%C3%A1tico1.ipynb\" target=\"_parent\"><img src=\"https://colab.research.google.com/assets/colab-badge.svg\" alt=\"Open In Colab\"/></a>"
      ]
    },
    {
      "cell_type": "markdown",
      "source": [
        "## Roteiro de Práticas 01 - Desafio"
      ],
      "metadata": {
        "id": "WtVwYYec999T"
      }
    },
    {
      "cell_type": "code",
      "source": [
        "#Inserindo variáveis\n",
        "nome = \"Vitória\"\n",
        "idade = 28\n",
        "cidade = \"São Bernardo do Campo\"\n",
        "\n",
        "#Mostrando na tela uma apresentação minha com as variáveis que inseri\n",
        "print(f\"Olá! Meu nome é {nome}. Eu tenho {idade} anos e moro em {cidade}.\")\n",
        "\n"
      ],
      "metadata": {
        "colab": {
          "base_uri": "https://localhost:8080/"
        },
        "id": "RwUzqvpI-HaK",
        "outputId": "91f86098-f638-419f-f5c4-2ebce3be00d5"
      },
      "execution_count": null,
      "outputs": [
        {
          "output_type": "stream",
          "name": "stdout",
          "text": [
            "Olá! Meu nome é Vitória. Eu tenho 28 anos e moro em São Bernardo do Campo.\n"
          ]
        }
      ]
    },
    {
      "cell_type": "code",
      "source": [
        "#Lista de números\n",
        "números = [10,20,30,40,50]\n",
        "\n",
        "#Cálculo da Média\n",
        "média = sum(números) / len(números)\n",
        "\n",
        "#Mostrando na tela os números que contém na lista\n",
        "print(f\" A lista contém os números {números}.\")\n",
        "\n",
        "#Mostrando na tela o resultado do cálculo da média\n",
        "print(f\" A média desses números é {int(média)}.\")"
      ],
      "metadata": {
        "colab": {
          "base_uri": "https://localhost:8080/"
        },
        "id": "6rly5AQlAN_m",
        "outputId": "76bfcaf5-443d-4143-b7ff-d2ec04393823"
      },
      "execution_count": null,
      "outputs": [
        {
          "output_type": "stream",
          "name": "stdout",
          "text": [
            " A lista contém os números [10, 20, 30, 40, 50].\n",
            " A média desses números é 30.\n"
          ]
        }
      ]
    },
    {
      "cell_type": "code",
      "source": [
        "# Lista de gastos\n",
        "gastos_joao = [300, 500, 200, 800]\n",
        "gastos_pedro = [200, 400, 500, 700]\n",
        "\n",
        "# Soma dos gastos\n",
        "total_joao = sum(gastos_joao)\n",
        "total_pedro = sum(gastos_pedro)\n",
        "\n",
        "# Comparação dos gastos\n",
        "if total_joao > total_pedro:\n",
        "    print (f\"João gastou mais que Pedro. João gastou R$ {total_joao}.\")\n",
        "elif total_joao < total_pedro:\n",
        "    print (f\"Pedro gastou mais que João. Pedro gastou R$ {total_pedro}.\")\n",
        "else:\n",
        "    print (f\"João e Pedro gastaram a mesma quantia. Ambos gastaram R$ {total_joao}.\")\n"
      ],
      "metadata": {
        "colab": {
          "base_uri": "https://localhost:8080/"
        },
        "id": "x4soA-ZjFC7c",
        "outputId": "a4c1d546-3e88-406a-d5aa-5f3654df52f1"
      },
      "execution_count": null,
      "outputs": [
        {
          "output_type": "stream",
          "name": "stdout",
          "text": [
            "João e Pedro gastaram a mesma quantia. Ambos gastaram R$ 1800.\n"
          ]
        }
      ]
    }
  ]
}